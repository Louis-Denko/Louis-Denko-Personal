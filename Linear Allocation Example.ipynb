{
 "cells": [
  {
   "cell_type": "markdown",
   "metadata": {},
   "source": [
    "## Sidneyville Manufacturing: Pythonic Version"
   ]
  },
  {
   "cell_type": "code",
   "execution_count": 1,
   "metadata": {},
   "outputs": [],
   "source": [
    "# import Glop package\n",
    "from ortools.linear_solver import pywraplp as glp\n",
    "import lptools as lpt"
   ]
  },
  {
   "cell_type": "code",
   "execution_count": 2,
   "metadata": {},
   "outputs": [],
   "source": [
    "#Create LP model object\n",
    "mymodel = glp.Solver('Sidneyville',glp.Solver.GLOP_LINEAR_PROGRAMMING)"
   ]
  },
  {
   "cell_type": "code",
   "execution_count": 3,
   "metadata": {},
   "outputs": [],
   "source": [
    "inf = mymodel.infinity()\n",
    "\n",
    "variables = {'Roll_Top': (0, inf, 115),    # (lower bound, upper bound, objective coefficient)\n",
    "             'Regular':  (0, inf,  90)}\n",
    "\n",
    "constraints = {'Pine':  (-inf, 200, [10, 20]),    # (lower bound, upper bound, coefficient list)\n",
    "               'Cedar': (-inf, 128, [ 4, 16]),\n",
    "               'Maple': (-inf, 220, [15, 10])}"
   ]
  },
  {
   "cell_type": "code",
   "execution_count": 4,
   "metadata": {},
   "outputs": [],
   "source": [
    "# Create Variables and Objective\n",
    "mymodel.Objective().SetMaximization()\n",
    "for v in variables:\n",
    "    #print(v, variables[v])\n",
    "    (lb,ub,c) = variables[v]\n",
    "    var = mymodel.NumVar(lb, ub, v)\n",
    "    mymodel.Objective().SetCoefficient(var,c)\n",
    "    "
   ]
  },
  {
   "cell_type": "code",
   "execution_count": 5,
   "metadata": {},
   "outputs": [
    {
     "name": "stdout",
     "output_type": "stream",
     "text": [
      "Variables:\n",
      "Roll_Top, Regular \n",
      "\n",
      "maximize: 115.0*Roll_Top + 90.0*Regular \n",
      "\n",
      "Subject To:\n",
      "\n",
      "Bounds:\n",
      "Roll_Top >= 0.0\n",
      "Regular >= 0.0\n"
     ]
    }
   ],
   "source": [
    "lpt.print_model(mymodel)"
   ]
  },
  {
   "cell_type": "code",
   "execution_count": 6,
   "metadata": {},
   "outputs": [],
   "source": [
    "# Create Constraints\n",
    "for c in constraints:\n",
    "    (lb,ub,coeff_lst) = constraints[c]\n",
    "    constr = mymodel.Constraint(lb,ub,c)\n",
    "    #print(list(zip(mymodel.variables(),coeff_lst)))\n",
    "    for (v,coeff) in zip(mymodel.variables(), coeff_lst):\n",
    "        constr.SetCoefficient(v,coeff)\n"
   ]
  },
  {
   "cell_type": "code",
   "execution_count": 7,
   "metadata": {},
   "outputs": [
    {
     "name": "stdout",
     "output_type": "stream",
     "text": [
      "Solution Status = 0\n",
      "Optimal Value = 1740.00\n",
      "Roll_Top = 12.00\n",
      "Regular = 4.00\n"
     ]
    }
   ],
   "source": [
    "#solve model and display results\n",
    "status = mymodel.Solve()\n",
    "print('Solution Status =', status)\n",
    "print('Optimal Value = %.2f' % mymodel.Objective().Value())\n",
    "for v in mymodel.variables():\n",
    "    print('%s = %.2f' % (v.name(),v.solution_value()))"
   ]
  },
  {
   "cell_type": "code",
   "execution_count": 8,
   "metadata": {},
   "outputs": [],
   "source": [
    "#mymodel.Clear()"
   ]
  },
  {
   "cell_type": "code",
   "execution_count": 9,
   "metadata": {},
   "outputs": [
    {
     "name": "stdout",
     "output_type": "stream",
     "text": [
      "Variables:\n",
      "Roll_Top, Regular \n",
      "\n",
      "maximize: 115.0*Roll_Top + 90.0*Regular \n",
      "\n",
      "Subject To:\n",
      "Pine: 10.0*Roll_Top + 20.0*Regular <= 200.0\n",
      "Cedar: 4.0*Roll_Top + 16.0*Regular <= 128.0\n",
      "Maple: 15.0*Roll_Top + 10.0*Regular <= 220.0\n",
      "\n",
      "Bounds:\n",
      "Roll_Top >= 0.0\n",
      "Regular >= 0.0\n"
     ]
    }
   ],
   "source": [
    "lpt.print_model(mymodel)"
   ]
  },
  {
   "cell_type": "code",
   "execution_count": 10,
   "metadata": {},
   "outputs": [
    {
     "name": "stdout",
     "output_type": "stream",
     "text": [
      "Variable    LB   Value    UB   Reduced Cost\n",
      "Roll_Top    0.0   12.0    inf   0.00\n",
      " Regular    0.0    4.0    inf   0.00\n"
     ]
    }
   ],
   "source": [
    "# display variable information\n",
    "print('Variable    LB   Value    UB   Reduced Cost')\n",
    "for v in mymodel.variables():\n",
    "    print('%8s  %5.1f  %5.1f  %5.1f  %5.2f' % (v.name() ,v.lb() ,v.solution_value() ,v.ub() ,v.reduced_cost()))"
   ]
  },
  {
   "cell_type": "code",
   "execution_count": 11,
   "metadata": {},
   "outputs": [
    {
     "name": "stdout",
     "output_type": "stream",
     "text": [
      "Constraint    LB    Value  UB     Dual\n",
      "      Pine   -inf  200.0  200.0   1.00\n",
      "     Cedar   -inf  112.0  128.0  -0.00\n",
      "     Maple   -inf  220.0  220.0   7.00\n"
     ]
    }
   ],
   "source": [
    "#display constraint information\n",
    "print('Constraint    LB    Value  UB     Dual')\n",
    "for (c,lhs) in zip(mymodel.constraints(), mymodel.ComputeConstraintActivities()):\n",
    "    print('%10s  %5.1f  %5.1f  %5.1f  %5.2f' % (c.name(), c.lb(), lhs, c.ub(), c.dual_value()))"
   ]
  },
  {
   "cell_type": "markdown",
   "metadata": {},
   "source": [
    "## Optimization Parameter Analysis"
   ]
  },
  {
   "cell_type": "code",
   "execution_count": 12,
   "metadata": {},
   "outputs": [],
   "source": [
    "import matplotlib.pyplot as plt"
   ]
  },
  {
   "cell_type": "code",
   "execution_count": null,
   "metadata": {},
   "outputs": [],
   "source": [
    "# parameter analysis for amount of pine available fro 200 to 230\n",
    "param_lst = list(range(200, 231))  # list of pine values\n",
    "optval_lst = list()\n",
    "constr = mymodel.constraints()[0]\n",
    "for b in param_lst:\n",
    "    constr.SetUb(b)\n",
    "    mymodel.Solve()\n",
    "    print('%d    %7.2f' % (b, mymodel.Objective().Value()))\n",
    "    optval_lst.append(mymodel.Objective().Value())\n",
    "constr.SetUb(param_lst[0])\n",
    "plt.plot(param_lst, optval_lst)"
   ]
  },
  {
   "cell_type": "code",
   "execution_count": null,
   "metadata": {},
   "outputs": [],
   "source": [
    "# parameter analysis for Roll Top desk coefficeint from 0 to 115\n",
    "param_lst = list(range(0,116))\n",
    "optval_lst = list()\n",
    "var = mymodel.variables()[0]\n",
    "for c in param_lst:\n",
    "    mymodel.Objective().SetCoefficient(var, c)\n",
    "    mymodel.Solve()\n",
    "    print('%d    %7.2f' % (c, mymodel.Objective().Value()))\n",
    "    optval_lst.append(mymodel.Objective().Value())\n",
    "mymodel.Objective().SetCoefficient(var, param_lst[0])\n",
    "plt.plot(param_lst, optval_lst)"
   ]
  },
  {
   "cell_type": "code",
   "execution_count": 13,
   "metadata": {},
   "outputs": [
    {
     "name": "stdout",
     "output_type": "stream",
     "text": [
      "220    1740.00\n",
      "221    1747.00\n",
      "222    1754.00\n",
      "223    1761.00\n",
      "224    1768.00\n",
      "225    1775.00\n",
      "226    1782.00\n",
      "227    1789.00\n",
      "228    1796.00\n",
      "229    1803.00\n",
      "230    1810.00\n",
      "231    1817.00\n",
      "232    1824.00\n",
      "233    1831.00\n",
      "234    1838.00\n",
      "235    1845.00\n",
      "236    1852.00\n",
      "237    1859.00\n",
      "238    1866.00\n",
      "239    1873.00\n",
      "240    1880.00\n",
      "241    1887.00\n",
      "242    1894.00\n",
      "243    1901.00\n",
      "244    1908.00\n",
      "245    1915.00\n",
      "246    1922.00\n",
      "247    1929.00\n",
      "248    1936.00\n",
      "249    1943.00\n",
      "250    1950.00\n",
      "251    1957.00\n",
      "252    1964.00\n",
      "253    1971.00\n",
      "254    1978.00\n",
      "255    1985.00\n",
      "256    1992.00\n",
      "257    1999.00\n",
      "258    2006.00\n",
      "259    2013.00\n",
      "260    2020.00\n",
      "261    2027.00\n",
      "262    2034.00\n",
      "263    2041.00\n",
      "264    2048.00\n",
      "265    2055.00\n",
      "266    2062.00\n",
      "267    2069.00\n",
      "268    2076.00\n",
      "269    2083.00\n",
      "270    2090.00\n",
      "271    2097.00\n",
      "272    2104.00\n",
      "273    2111.00\n",
      "274    2118.00\n",
      "275    2125.00\n",
      "276    2132.00\n",
      "277    2139.00\n",
      "278    2146.00\n",
      "279    2153.00\n",
      "280    2160.00\n",
      "281    2167.00\n",
      "282    2174.00\n",
      "283    2181.00\n",
      "284    2188.00\n",
      "285    2195.00\n",
      "286    2202.00\n",
      "287    2209.00\n",
      "288    2216.00\n",
      "289    2223.00\n",
      "290    2230.00\n",
      "291    2237.00\n",
      "292    2244.00\n",
      "293    2251.00\n",
      "294    2258.00\n",
      "295    2265.00\n",
      "296    2272.00\n",
      "297    2279.00\n",
      "298    2286.00\n",
      "299    2293.00\n",
      "300    2300.00\n",
      "301    2300.00\n",
      "302    2300.00\n",
      "303    2300.00\n",
      "304    2300.00\n",
      "305    2300.00\n",
      "306    2300.00\n",
      "307    2300.00\n",
      "308    2300.00\n",
      "309    2300.00\n",
      "310    2300.00\n",
      "311    2300.00\n",
      "312    2300.00\n",
      "313    2300.00\n",
      "314    2300.00\n",
      "315    2300.00\n",
      "316    2300.00\n",
      "317    2300.00\n",
      "318    2300.00\n",
      "319    2300.00\n",
      "320    2300.00\n"
     ]
    },
    {
     "data": {
      "text/plain": [
       "[<matplotlib.lines.Line2D at 0x27ca4bb2c50>]"
      ]
     },
     "execution_count": 13,
     "metadata": {},
     "output_type": "execute_result"
    },
    {
     "data": {
      "image/png": "[encoded data removed]",
      "text/plain": [
       "<Figure size 640x480 with 1 Axes>"
      ]
     },
     "metadata": {},
     "output_type": "display_data"
    }
   ],
   "source": [
    "# parameter analysis for amount of Maple from 220 to 320\n",
    "param_lst = list(range(220, 321))  \n",
    "optval_lst = list()\n",
    "constr = mymodel.constraints()[2]\n",
    "for d in param_lst:\n",
    "    constr.SetUb(d)\n",
    "    mymodel.Solve()\n",
    "    print('%d    %7.2f' % (d, mymodel.Objective().Value()))\n",
    "    optval_lst.append(mymodel.Objective().Value())\n",
    "constr.SetUb(param_lst[0])\n",
    "plt.plot(param_lst, optval_lst)"
   ]
  },
  {
   "cell_type": "code",
   "execution_count": null,
   "metadata": {},
   "outputs": [],
   "source": []
  }
 ],
 "metadata": {
  "kernelspec": {
   "display_name": "Python 3 (ipykernel)",
   "language": "python",
   "name": "python3"
  },
  "language_info": {
   "codemirror_mode": {
    "name": "ipython",
    "version": 3
   },
   "file_extension": ".py",
   "mimetype": "text/x-python",
   "name": "python",
   "nbconvert_exporter": "python",
   "pygments_lexer": "ipython3",
   "version": "3.11.4"
  }
 },
 "nbformat": 4,
 "nbformat_minor": 4
}
