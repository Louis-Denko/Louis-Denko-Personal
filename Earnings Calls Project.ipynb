{
 "cells": [
  {
   "cell_type": "code",
   "execution_count": 1,
   "id": "b61bb7a0",
   "metadata": {},
   "outputs": [],
   "source": [
    "import requests\n",
    "import csv"
   ]
  },
  {
   "cell_type": "code",
   "execution_count": 2,
   "id": "98037446",
   "metadata": {},
   "outputs": [],
   "source": [
    "# free API Key at https://www.alphavantage.co/support/#api-key \n",
    "api_key = 'XLCV53AWA8BWAMAS'"
   ]
  },
  {
   "cell_type": "code",
   "execution_count": 3,
   "id": "e0a82256",
   "metadata": {},
   "outputs": [],
   "source": [
    "#This function takes the api key above, or new user generated one and stock symbol to return that company's next earnings call\n",
    "\n",
    "def get_next_earnings_call(api_key, symbol, print_result=True):\n",
    "    \n",
    "    url = f'https://www.alphavantage.co/query?function=EARNINGS_CALENDAR&horizon=3month&apikey={api_key}'\n",
    "    \n",
    "    with requests.Session() as s:\n",
    "        download = s.get(url)\n",
    "        decoded_content = download.content.decode('utf-8')\n",
    "        cr = csv.reader(decoded_content.splitlines(), delimiter=',')\n",
    "        my_list = list(cr)\n",
    "        \n",
    "\n",
    "        for row in my_list:\n",
    "            if row[0] == symbol:\n",
    "                earnings_call = {\n",
    "                    \"symbol\": row[0],\n",
    "                    \"name\": row[1],\n",
    "                    \"reportDate\": row[2],\n",
    "                }\n",
    "                \n",
    "                if print_result:\n",
    "                    print(\"Next earnings call for\", earnings_call['name'], \":\", earnings_call['reportDate'])\n",
    "                "
   ]
  },
  {
   "cell_type": "code",
   "execution_count": 4,
   "id": "3be6d04b",
   "metadata": {},
   "outputs": [
    {
     "name": "stdout",
     "output_type": "stream",
     "text": [
      "Next earnings call for Apple Inc : 2024-05-02\n"
     ]
    }
   ],
   "source": [
    "# Testing the function\n",
    "get_next_earnings_call(api_key, 'AAPL')"
   ]
  }
 ],
 "metadata": {
  "kernelspec": {
   "display_name": "Python 3 (ipykernel)",
   "language": "python",
   "name": "python3"
  },
  "language_info": {
   "codemirror_mode": {
    "name": "ipython",
    "version": 3
   },
   "file_extension": ".py",
   "mimetype": "text/x-python",
   "name": "python",
   "nbconvert_exporter": "python",
   "pygments_lexer": "ipython3",
   "version": "3.11.4"
  }
 },
 "nbformat": 4,
 "nbformat_minor": 5
}
