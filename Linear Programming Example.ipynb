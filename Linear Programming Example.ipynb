{
 "cells": [
  {
   "cell_type": "markdown",
   "metadata": {},
   "source": [
    "## LP Optimization"
   ]
  },
  {
   "cell_type": "code",
   "execution_count": 1,
   "metadata": {},
   "outputs": [],
   "source": [
    "# import Glop package\n",
    "from ortools.linear_solver import pywraplp as glp\n",
    "import lptools as lpt"
   ]
  },
  {
   "cell_type": "code",
   "execution_count": 2,
   "metadata": {},
   "outputs": [],
   "source": [
    "#Create LP model object\n",
    "mymodel = glp.Solver('Veerman',glp.Solver.GLOP_LINEAR_PROGRAMMING)"
   ]
  },
  {
   "cell_type": "code",
   "execution_count": 6,
   "metadata": {},
   "outputs": [],
   "source": [
    "inf = mymodel.infinity()\n",
    "\n",
    "variables = {'Chairs': (0, inf,15),    # (lower bound, upper bound, objective coefficient)\n",
    "             'Desks': (0 , inf, 24),\n",
    "             'Tables': (0, inf, 18)}\n",
    "\n",
    "constraints = {'Fabrication': (-inf, 1850, [4, 6, 2]),    # (lower bound, upper bound, coefficient list)\n",
    "               'Assembly': (-inf, 2400, [3, 5, 7]),\n",
    "               'Shipping': (-inf, 1500, [3, 2, 4]),\n",
    "               'Chair_mkt': (-inf, 360, [1, 0, 0]),\n",
    "               'Desk_mkt': (-inf, 300, [0, 1, 0]),\n",
    "               'Table_mkt': (-inf, 100, [0, 0, 1])}"
   ]
  },
  {
   "cell_type": "code",
   "execution_count": 7,
   "metadata": {},
   "outputs": [],
   "source": [
    "mymodel.Objective().SetMaximization()\n",
    "for v in variables:\n",
    "    #print(v)\n",
    "    #print(variables[v])\n",
    "    (lb,ub,c) = variables[v]\n",
    "    var = mymodel.NumVar(lb,ub,v)\n",
    "    mymodel.Objective().SetCoefficient(var,c)"
   ]
  },
  {
   "cell_type": "code",
   "execution_count": 8,
   "metadata": {},
   "outputs": [],
   "source": [
    "for c in constraints:\n",
    "    (lb,ub,coeff_lst) = constraints[c]\n",
    "    #print(list(zip(mymodel.variables(),coeff_lst)))\n",
    "    constr = mymodel.Constraint(lb,ub,c)\n",
    "    for (v,coeff) in zip(mymodel.variables(),coeff_lst):\n",
    "        constr.SetCoefficient(v,coeff)"
   ]
  },
  {
   "cell_type": "code",
   "execution_count": 9,
   "metadata": {},
   "outputs": [
    {
     "name": "stdout",
     "output_type": "stream",
     "text": [
      "Variables:\n",
      "Chairs, Desks, Tables \n",
      "\n",
      "maximize: 15.0*Chairs + 24.0*Desks + 18.0*Tables \n",
      "\n",
      "Subject To:\n",
      "Fabrication: 4.0*Chairs + 6.0*Desks + 2.0*Tables <= 1850.0\n",
      "Assembly: 3.0*Chairs + 5.0*Desks + 7.0*Tables <= 2400.0\n",
      "Shipping: 3.0*Chairs + 2.0*Desks + 4.0*Tables <= 1500.0\n",
      "Chair_mkt: 1.0*Chairs <= 360.0\n",
      "Desk_mkt: 1.0*Desks <= 300.0\n",
      "Table_mkt: 1.0*Tables <= 100.0\n",
      "\n",
      "Bounds:\n",
      "Chairs >= 0.0\n",
      "Desks >= 0.0\n",
      "Tables >= 0.0\n"
     ]
    }
   ],
   "source": [
    "lpt.print_model(mymodel)"
   ]
  },
  {
   "cell_type": "code",
   "execution_count": 10,
   "metadata": {},
   "outputs": [
    {
     "name": "stdout",
     "output_type": "stream",
     "text": [
      "Solution Status = 0\n",
      "Optimal Value = 8400.00\n",
      "Chairs = 0.00\n",
      "Desks = 275.00\n",
      "Tables = 100.00\n"
     ]
    }
   ],
   "source": [
    "#solve model and display results\n",
    "status = mymodel.Solve()\n",
    "print('Solution Status =',status)\n",
    "print('Optimal Value = %.2f' % mymodel.Objective().Value())\n",
    "for v in mymodel.variables():\n",
    "    print('%s = %.2f' % (v.name(),v.solution_value()))"
   ]
  },
  {
   "cell_type": "code",
   "execution_count": 11,
   "metadata": {},
   "outputs": [
    {
     "name": "stdout",
     "output_type": "stream",
     "text": [
      "Variable    LB   Value    UB   Reduced Cost\n",
      "  Chairs    0.0    0.0    inf  -1.00\n",
      "   Desks    0.0  275.0    inf   0.00\n",
      "  Tables    0.0  100.0    inf   0.00\n"
     ]
    }
   ],
   "source": [
    "# display variable information\n",
    "print('Variable    LB   Value    UB   Reduced Cost')\n",
    "for v in mymodel.variables():\n",
    "    print('%8s  %5.1f  %5.1f  %5.1f  %5.2f' % (v.name(),v.lb(),v.solution_value(),v.ub(),v.reduced_cost()))"
   ]
  },
  {
   "cell_type": "code",
   "execution_count": 12,
   "metadata": {},
   "outputs": [
    {
     "name": "stdout",
     "output_type": "stream",
     "text": [
      "Constraint    LB    Value  UB     Dual\n",
      "Fabrication   -inf  1850.0  1850.0   4.00\n",
      "  Assembly   -inf  2075.0  2400.0  -0.00\n",
      "  Shipping   -inf  950.0  1500.0  -0.00\n",
      " Chair_mkt   -inf    0.0  360.0   0.00\n",
      "  Desk_mkt   -inf  275.0  300.0   0.00\n",
      " Table_mkt   -inf  100.0  100.0  10.00\n"
     ]
    }
   ],
   "source": [
    "#display constraint information\n",
    "print('Constraint    LB    Value  UB     Dual')\n",
    "for (c,lhs) in zip(mymodel.constraints(),mymodel.ComputeConstraintActivities()):\n",
    "    print('%10s  %5.1f  %5.1f  %5.1f  %5.2f' % (c.name(),c.lb(),lhs,c.ub(),c.dual_value()))"
   ]
  },
  {
   "cell_type": "markdown",
   "metadata": {},
   "source": [
    "## Optimization paramaeter Analysis"
   ]
  },
  {
   "cell_type": "code",
   "execution_count": 13,
   "metadata": {},
   "outputs": [],
   "source": [
    "import matplotlib.pyplot as plt"
   ]
  },
  {
   "cell_type": "code",
   "execution_count": 14,
   "metadata": {},
   "outputs": [
    {
     "data": {
      "text/plain": [
       "[<matplotlib.lines.Line2D at 0x17ae6be76d0>]"
      ]
     },
     "execution_count": 14,
     "metadata": {},
     "output_type": "execute_result"
    },
    {
     "data": {
      "image/png": "[encoded data removed]",
      "text/plain": [
       "<Figure size 640x480 with 1 Axes>"
      ]
     },
     "metadata": {},
     "output_type": "display_data"
    }
   ],
   "source": [
    "# parameter analysis for fabrication capacity from 1850 to 3200\n",
    "param_lst = list(range(1850, 3201, 20))\n",
    "optval_lst = list()\n",
    "constr = mymodel.constraints()[0]\n",
    "for b in param_lst:\n",
    "    constr.SetUb(b)\n",
    "    mymodel.Solve()\n",
    "    optval_lst.append(mymodel.Objective().Value())\n",
    "constr.SetUb(param_lst[0])\n",
    "plt.plot(param_lst, optval_lst)"
   ]
  },
  {
   "cell_type": "code",
   "execution_count": 17,
   "metadata": {},
   "outputs": [
    {
     "data": {
      "text/plain": [
       "[<matplotlib.lines.Line2D at 0x17ae6c47110>]"
      ]
     },
     "execution_count": 17,
     "metadata": {},
     "output_type": "execute_result"
    },
    {
     "data": {
      "image/png": "[encoded data removed]",
      "text/plain": [
       "<Figure size 640x480 with 1 Axes>"
      ]
     },
     "metadata": {},
     "output_type": "display_data"
    }
   ],
   "source": [
    "# parameter analysis of chair profit coefficient\n",
    "param_lst = list(range(15,21))\n",
    "optval_lst = list()\n",
    "var = mymodel.variables()[0]\n",
    "for c in param_lst:\n",
    "    mymodel.Objective().SetCoefficient(var, c)\n",
    "    mymodel.Solve()\n",
    "    optval_lst.append(mymodel.Objective().Value())\n",
    "mymodel.Objective().SetCoefficient(var, param_lst[0])\n",
    "plt.plot(param_lst, optval_lst)"
   ]
  },
  {
   "cell_type": "code",
   "execution_count": null,
   "metadata": {},
   "outputs": [],
   "source": []
  }
 ],
 "metadata": {
  "kernelspec": {
   "display_name": "Python 3 (ipykernel)",
   "language": "python",
   "name": "python3"
  },
  "language_info": {
   "codemirror_mode": {
    "name": "ipython",
    "version": 3
   },
   "file_extension": ".py",
   "mimetype": "text/x-python",
   "name": "python",
   "nbconvert_exporter": "python",
   "pygments_lexer": "ipython3",
   "version": "3.11.4"
  }
 },
 "nbformat": 4,
 "nbformat_minor": 4
}
